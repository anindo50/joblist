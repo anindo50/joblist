{
 "cells": [
  {
   "cell_type": "code",
   "execution_count": 22,
   "metadata": {},
   "outputs": [],
   "source": [
    "from bs4 import BeautifulSoup\n",
    "import requests as req\n",
    "\n",
    "url = 'https://boston.craigslist.org/search/sof'\n",
    "resp = req.get(url)"
   ]
  },
  {
   "cell_type": "code",
   "execution_count": 23,
   "metadata": {},
   "outputs": [],
   "source": [
    "data = resp.text"
   ]
  },
  {
   "cell_type": "code",
   "execution_count": 24,
   "metadata": {},
   "outputs": [],
   "source": [
    "soup = BeautifulSoup(data,'html.parser')"
   ]
  },
  {
   "cell_type": "code",
   "execution_count": 25,
   "metadata": {},
   "outputs": [],
   "source": [
    "tags = soup.find_all('a')"
   ]
  },
  {
   "cell_type": "code",
   "execution_count": 26,
   "metadata": {},
   "outputs": [],
   "source": [
    "jobs = soup.find_all('p',class_='result-info')"
   ]
  },
  {
   "cell_type": "code",
   "execution_count": 34,
   "metadata": {},
   "outputs": [
    {
     "name": "stdout",
     "output_type": "stream",
     "text": [
      "title: Senior Frontend Engineer \n",
      "location: (boston: boston/cambridge/brookline) \n",
      "date: May 14 \n",
      "link: https://boston.craigslist.org/gbs/sof/d/boston-senior-frontend-engineer/7124118925.html \n",
      "---\n",
      "title: .NET CRM Developer \n",
      "location: (boston: boston/cambridge/brookline) \n",
      "date: May 14 \n",
      "link: https://boston.craigslist.org/gbs/sof/d/boston-net-crm-developer/7124118887.html \n",
      "---\n",
      "title: React Native iOS Engineer \n",
      "location: (boston: boston/cambridge/brookline) \n",
      "date: May 14 \n",
      "link: https://boston.craigslist.org/gbs/sof/d/boston-react-native-ios-engineer/7124118847.html \n",
      "---\n",
      "title: Implementation Engineer \n",
      "location: (boston: boston/cambridge/brookline) \n",
      "date: May 14 \n",
      "link: https://boston.craigslist.org/gbs/sof/d/boston-implementation-engineer/7124118824.html \n",
      "---\n",
      "title: Data Science Fellowship \n",
      "location: N/A \n",
      "date: May 13 \n",
      "link: https://boston.craigslist.org/gbs/sof/d/boston-data-science-fellowship/7123572765.html \n",
      "---\n",
      "title: Sr. Software Engineer - Join a THRIVING Company actively recruiting!! \n",
      "location: (Jupiter) \n",
      "date: May 13 \n",
      "link: https://boston.craigslist.org/gbs/sof/d/jupiter-sr-software-engineer-join/7123536331.html \n",
      "---\n",
      "title: Database Engineer/Developer \n",
      "location: (boston: northwest/merrimack) \n",
      "date: May 11 \n",
      "link: https://boston.craigslist.org/nwb/sof/d/lowell-database-engineer-developer/7122242771.html \n",
      "---\n",
      "title: Chief Technology Officer - part time/telecommute \n",
      "location: (Telecommute/Princeton) \n",
      "date: May  9 \n",
      "link: https://boston.craigslist.org/gbs/sof/d/princeton-chief-technology-officer-part/7121621059.html \n",
      "---\n",
      "title: Azure Cloud Systems Engineer \n",
      "location: (Waltham) \n",
      "date: May  7 \n",
      "link: https://boston.craigslist.org/bmw/sof/d/waltham-azure-cloud-systems-engineer/7120289807.html \n",
      "---\n",
      "title: Software Apprenticeship \n",
      "location: N/A \n",
      "date: May  6 \n",
      "link: https://boston.craigslist.org/gbs/sof/d/cambridge-software-apprenticeship/7119857589.html \n",
      "---\n",
      "title: Data Science Fellowship \n",
      "location: N/A \n",
      "date: May  5 \n",
      "link: https://boston.craigslist.org/gbs/sof/d/boston-data-science-fellowship/7119292306.html \n",
      "---\n",
      "title: Restaurant Depot is hiring! Earn $15/hr \n",
      "location: (Needham Heights) \n",
      "date: Apr 30 \n",
      "link: https://boston.craigslist.org/gbs/sof/d/needham-heights-restaurant-depot-is/7116402653.html \n",
      "---\n",
      "title: Data Science Fellowship \n",
      "location: N/A \n",
      "date: Apr 28 \n",
      "link: https://boston.craigslist.org/gbs/sof/d/boston-data-science-fellowship/7115401624.html \n",
      "---\n",
      "title: Project Manager \n",
      "location: (boston: boston/cambridge/brookline) \n",
      "date: Apr 28 \n",
      "link: https://boston.craigslist.org/gbs/sof/d/boston-project-manager/7115313503.html \n",
      "---\n",
      "title: Become a Certified Cloud Architect Professional \n",
      "location: N/A \n",
      "date: Apr 27 \n",
      "link: https://boston.craigslist.org/gbs/sof/d/waltham-become-certified-cloud/7114693082.html \n",
      "---\n",
      "title: Want to earn $15/hr? Apply to Restaurant Depot \n",
      "location: (Needham Heights) \n",
      "date: Apr 25 \n",
      "link: https://boston.craigslist.org/gbs/sof/d/needham-heights-want-to-earn-15-hr/7113786538.html \n",
      "---\n",
      "title: Data Management Coordinator \n",
      "location: (Gloucester, MA) \n",
      "date: Apr 22 \n",
      "link: https://boston.craigslist.org/nos/sof/d/gloucester-data-management-coordinator/7112273528.html \n",
      "---\n",
      "title: Data Science Fellowship \n",
      "location: N/A \n",
      "date: Apr 21 \n",
      "link: https://boston.craigslist.org/gbs/sof/d/boston-data-science-fellowship/7111855189.html \n",
      "---\n",
      "title: Billionare backed Robotics company- Engineer \n",
      "location: (Boston) \n",
      "date: Apr 20 \n",
      "link: https://boston.craigslist.org/gbs/sof/d/cambridge-billionare-backed-robotics/7111450732.html \n",
      "---\n",
      "title: Project Manager \n",
      "location: (Gloucester, MA) \n",
      "date: Apr 20 \n",
      "link: https://boston.craigslist.org/nos/sof/d/gloucester-project-manager/7111316021.html \n",
      "---\n",
      "title: Want to earn $14/hr? Apply to Restaurant Depot \n",
      "location: N/A \n",
      "date: May  7 \n",
      "link: https://providence.craigslist.org/sof/d/providence-want-to-earn-14-hr-apply-to/7120117991.html \n",
      "---\n",
      "title: Want to earn $14/hr? Apply to Restaurant Depot \n",
      "location: N/A \n",
      "date: May  2 \n",
      "link: https://providence.craigslist.org/sof/d/providence-want-to-earn-14-hr-apply-to/7117640156.html \n",
      "---\n",
      "title: Data Management Coordinator \n",
      "location: N/A \n",
      "date: Apr 20 \n",
      "link: https://capecod.craigslist.org/sof/d/woods-hole-data-management-coordinator/7111313095.html \n",
      "---\n"
     ]
    }
   ],
   "source": [
    "for job in jobs:\n",
    "    title = job.find('a',class_='result-title').text\n",
    "    location_tag = job.find('span',class_='result-hood')\n",
    "    location = location_tag.text.strip() if location_tag else 'N/A'\n",
    "    date = job.find('time',class_='result-date').text\n",
    "    links = job.find('a',class_='result-title').get('href')\n",
    "    job_r = req.get(links)\n",
    "    job_d = job_r.text\n",
    "    job_s = BeautifulSoup(job_d,'html.parser')\n",
    "    print('title:',title, '\\nlocation:',location, '\\ndate:',date,'\\nlink:',links,'\\n---')"
   ]
  },
  {
   "cell_type": "code",
   "execution_count": null,
   "metadata": {},
   "outputs": [],
   "source": []
  },
  {
   "cell_type": "code",
   "execution_count": null,
   "metadata": {},
   "outputs": [],
   "source": []
  }
 ],
 "metadata": {
  "kernelspec": {
   "display_name": "Python 3",
   "language": "python",
   "name": "python3"
  },
  "language_info": {
   "codemirror_mode": {
    "name": "ipython",
    "version": 3
   },
   "file_extension": ".py",
   "mimetype": "text/x-python",
   "name": "python",
   "nbconvert_exporter": "python",
   "pygments_lexer": "ipython3",
   "version": "3.7.6"
  }
 },
 "nbformat": 4,
 "nbformat_minor": 4
}
